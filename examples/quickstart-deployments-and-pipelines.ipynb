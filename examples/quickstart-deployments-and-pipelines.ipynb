{
 "cells": [
  {
   "cell_type": "markdown",
   "id": "863ebf43",
   "metadata": {},
   "source": [
    "<img src=\"ubiops_logo.svg\" width=\"80\">\n",
    "\n",
    "# Quickstart\n",
    "Deploy a simple float-to-float deployment in UbiOps using the R client library.\n",
    "\n",
    "\n",
    "The first step is to [download](https://download-github.ubiops.com/#!/home?url=https://github.com/UbiOps/deployment-template/tree/master/r/deployment_package) a prepared deployment package (the deployment code), and store it in your current working directory."
   ]
  },
  {
   "cell_type": "code",
   "execution_count": null,
   "id": "877a12eb",
   "metadata": {},
   "outputs": [],
   "source": [
    "deployment_package_zip <- file.path(getwd(), \"deployment_package.zip\")\n",
    "\n",
    "if(!file.exists(deployment_package_zip)){\n",
    "    stop(paste(\n",
    "        \"ERROR: Please, download the prepared deployment package (see link in text above)\",\n",
    "        \"and save it in your current working directory\"\n",
    "    ))\n",
    "}"
   ]
  },
  {
   "cell_type": "markdown",
   "id": "8231239f",
   "metadata": {},
   "source": [
    "Add your API token and project name as environment variable."
   ]
  },
  {
   "cell_type": "code",
   "execution_count": null,
   "id": "61c4b4a8",
   "metadata": {},
   "outputs": [],
   "source": [
    "Sys.setenv(UBIOPS_PROJECT = \"<YOUR_PROJECT_NAME>\")\n",
    "Sys.setenv(UBIOPS_API_TOKEN = \"Token <YOUR_API_TOKEN>\")\n",
    "\n",
    "# On-premises installation of UbiOps? Set your API url using:\n",
    "# Sys.setenv(UBIOPS_API_URL = \"https://api.ubiops.com/v2.1\")  # replace with your own API url"
   ]
  },
  {
   "cell_type": "markdown",
   "id": "9c921d11",
   "metadata": {},
   "source": [
    "You can adapt the deployment/pipeline name and version, or leave the default values."
   ]
  },
  {
   "cell_type": "code",
   "execution_count": null,
   "id": "92ba999e",
   "metadata": {},
   "outputs": [],
   "source": [
    "DEPLOYMENT_NAME <- \"simple-tutorial\"\n",
    "DEPLOYMENT_VERSION <- \"v1\""
   ]
  },
  {
   "cell_type": "code",
   "execution_count": null,
   "id": "703c60f5",
   "metadata": {},
   "outputs": [],
   "source": [
    "DEPLOYMENT_NAME2 <- \"simple-tutorial-2\"\n",
    "DEPLOYMENT_VERSION2 <- \"v1\""
   ]
  },
  {
   "cell_type": "code",
   "execution_count": null,
   "id": "aa836c79",
   "metadata": {},
   "outputs": [],
   "source": [
    "PIPELINE_NAME <- \"simple-tutorial-pipeline\"\n",
    "PIPELINE_VERSION <- \"v1\""
   ]
  },
  {
   "cell_type": "markdown",
   "id": "c315e9eb",
   "metadata": {},
   "source": [
    "## Load R client library\n",
    "Make sure you installed the UbiOps client library according to the installation instructions."
   ]
  },
  {
   "cell_type": "code",
   "execution_count": null,
   "id": "27a00ca3",
   "metadata": {},
   "outputs": [],
   "source": [
    "library(ubiops)"
   ]
  },
  {
   "cell_type": "markdown",
   "id": "944bc53d",
   "metadata": {},
   "source": [
    "Initialize the client library, which establishes the connection with UbiOps."
   ]
  },
  {
   "cell_type": "code",
   "execution_count": null,
   "id": "0709a1c0",
   "metadata": {},
   "outputs": [],
   "source": [
    "result <- service_status()\n",
    "result"
   ]
  },
  {
   "cell_type": "markdown",
   "id": "3c3da37d",
   "metadata": {},
   "source": [
    "## Deploy\n",
    "Create a deployment."
   ]
  },
  {
   "cell_type": "code",
   "execution_count": null,
   "id": "c0a2e28c",
   "metadata": {},
   "outputs": [],
   "source": [
    "deployment <- list(\n",
    "    name = DEPLOYMENT_NAME,\n",
    "    description = \"A simple deployment that multiplies the input float by a random number.\",\n",
    "    input_type = \"structured\",\n",
    "    output_type = \"structured\",\n",
    "    input_fields = list(\n",
    "        list(name=\"input\", data_type=\"double\")\n",
    "    ),\n",
    "    output_fields=list(\n",
    "        list(name=\"output\", data_type=\"double\")\n",
    "    ),\n",
    "    labels = list(demo = \"r-quickstart\")\n",
    ")\n",
    "result <- deployments_create(data = deployment)\n",
    "result"
   ]
  },
  {
   "cell_type": "markdown",
   "id": "3bf8d614",
   "metadata": {},
   "source": [
    "### Create a deployment version"
   ]
  },
  {
   "cell_type": "markdown",
   "id": "ca36eac4",
   "metadata": {},
   "source": [
    "<div class=\"alert alert-block alert-info\">\n",
    "    \n",
    "<b>Deployment Mode:</b> The <i>deployment_mode</i> of a deployment version determines what kind of requests will be made to it. For <code>deployment_mode=\"express\"</code>, direct (<i>synchronous</i>) requests will be made, resulting in <i>low latency</i> and a maximum duration of 1 hour for a single request. For <code>deployment_mode=\"batch\"</code>, batch (<i>asynchronous</i>) requests will be made, resulting in a higher latency but a maximum duration of <i>48 hours</i> for a single request. You will retrieve a request id with which you can obtain the results later (see <i>request retention mode</i>).\n",
    "<br/><br/>\n",
    "<b>Request Retention Mode:</b>\n",
    "Use <code>request_retention_mode=\"metadata\"</code> or <code>request_retention_mode=\"full\"</code> to store all direct and batch requests. <u>Only then you will be able to retrieve them later</u>. In this demo, we don't need to store them.\n",
    "\n",
    "</div>"
   ]
  },
  {
   "cell_type": "code",
   "execution_count": null,
   "id": "1035c41c",
   "metadata": {},
   "outputs": [],
   "source": [
    "version <- list(\n",
    "    version = DEPLOYMENT_VERSION,\n",
    "    language = \"r4.0\",\n",
    "    instance_type = \"256mb\",\n",
    "    maximum_instances = 1,\n",
    "    minimum_instances = 0,\n",
    "    maximum_idle_time = 1800, # = 30 minutes\n",
    "    deployment_mode = \"express\",  # 'express' or 'batch'\n",
    "    request_retention_mode=\"none\"  # We don't need to store the requests in this demo\n",
    ")\n",
    "\n",
    "result <- deployment_versions_create(\n",
    "    deployment.name = DEPLOYMENT_NAME,\n",
    "    data = version\n",
    ")\n",
    "result"
   ]
  },
  {
   "cell_type": "markdown",
   "id": "b093dab2",
   "metadata": {},
   "source": [
    "Upload the prepared deployment file to the created deployment version. This will create a revision and starts a build."
   ]
  },
  {
   "cell_type": "code",
   "execution_count": null,
   "id": "84227023",
   "metadata": {},
   "outputs": [],
   "source": [
    "result <- revisions_file_upload(\n",
    "    deployment.name = DEPLOYMENT_NAME,\n",
    "    version = DEPLOYMENT_VERSION,\n",
    "    file = deployment_package_zip\n",
    ")\n",
    "build.id <- result$build\n",
    "result"
   ]
  },
  {
   "cell_type": "markdown",
   "id": "1d895c09",
   "metadata": {},
   "source": [
    "Check if deployment is finished building.\n",
    "This can take a few minutes."
   ]
  },
  {
   "cell_type": "code",
   "execution_count": null,
   "id": "a4d36b6b",
   "metadata": {},
   "outputs": [],
   "source": [
    "status <- \"queued\"\n",
    "while (status != \"success\" && status != \"failed\") {\n",
    "    result <- builds_get(\n",
    "        deployment.name = DEPLOYMENT_NAME,\n",
    "        version = DEPLOYMENT_VERSION,\n",
    "        build.id = build.id\n",
    "    )\n",
    "    status <- result$status\n",
    "    Sys.sleep(2)\n",
    "}\n",
    "status"
   ]
  },
  {
   "cell_type": "markdown",
   "id": "17c89e29",
   "metadata": {},
   "source": [
    "The version is now available."
   ]
  },
  {
   "cell_type": "code",
   "execution_count": null,
   "id": "2ecaba5f",
   "metadata": {},
   "outputs": [],
   "source": [
    "result <- deployment_versions_get(\n",
    "    deployment.name = DEPLOYMENT_NAME,\n",
    "    version = DEPLOYMENT_VERSION\n",
    ")\n",
    "result$status"
   ]
  },
  {
   "cell_type": "markdown",
   "id": "41c1555b",
   "metadata": {},
   "source": [
    "## Creating a request\n",
    "Make sure the deployment is in 'available' state before performing deployment requests.\n",
    "\n",
    "The first request is usually slow because of a cold start. A second request (performed within the `maximum_idle_time`, which was set to 30 minutes in this tutorial) will be much faster."
   ]
  },
  {
   "cell_type": "markdown",
   "id": "4c90b0be",
   "metadata": {},
   "source": [
    "<div class=\"alert alert-block alert-info\">\n",
    "    \n",
    "<b>Batch deployments:</b>\n",
    "For deployments with <code>deployment_mode=\"batch\"</code>, it's not possible to create a <i>direct</i> request. You should create a <i>batch</i> (asynchronous) request instead: use <code>batch_deployment_requests_create</code> instead of <code>deployment_requests_create</code>:<br/>\n",
    "\n",
    "<pre><code r>data &lt;- list(input = 123)\n",
    "request_batch &lt;- batch_deployment_requests_create(\n",
    "    deployment.name = DEPLOYMENT_NAME,\n",
    "    data = list(data)\n",
    ")\n",
    "print(request_batch)\n",
    "</code></pre>\n",
    "\n",
    "<br/>Please, note that it is only possible to retrieve the results later if you used <code>request_retention_mode=\"full\"</code> upon deployment version creation.<br/>\n",
    "\n",
    "<pre><code r>request_result &lt;- deployment_requests_get(\n",
    "    deployment.name = DEPLOYMENT_NAME,\n",
    "    request.id = request_batch[[1]][[\"id\"]]\n",
    ")\n",
    "print(request_result)\n",
    "</code></pre>\n",
    "</div>"
   ]
  },
  {
   "cell_type": "code",
   "execution_count": null,
   "id": "3c8f42ad",
   "metadata": {},
   "outputs": [],
   "source": [
    "input_data <- list(input = 123)\n",
    "\n",
    "result <- deployment_version_requests_create(\n",
    "    deployment.name = DEPLOYMENT_NAME,\n",
    "    version = DEPLOYMENT_VERSION,\n",
    "    data = input_data\n",
    ")\n",
    "result"
   ]
  },
  {
   "cell_type": "markdown",
   "id": "4fd72623",
   "metadata": {},
   "source": [
    "It's possible to make a request to the *default* deployment version. The first created version automatically becomes the *default* version, and can be set to another version later. "
   ]
  },
  {
   "cell_type": "code",
   "execution_count": null,
   "id": "bd016b36",
   "metadata": {},
   "outputs": [],
   "source": [
    "input_data <- list(input = 123)\n",
    "\n",
    "result <- deployment_requests_create(\n",
    "    deployment.name = DEPLOYMENT_NAME,\n",
    "    data = input_data\n",
    ")\n",
    "result"
   ]
  },
  {
   "cell_type": "markdown",
   "id": "812add09",
   "metadata": {},
   "source": [
    "***\n",
    "\n",
    "# Pipelines\n",
    "\n",
    "Multiple deployments can be chained using a *pipeline*. In this tutorial, we will chain the deployment created above with a new deployment. Just for demo purposes, we will use the same deployment package (the same code) for both deployments in the pipeline. Therefore, the pipeline will contain two modelling steps: each step will multiply the input by a random number."
   ]
  },
  {
   "cell_type": "markdown",
   "id": "8eb3e8a2",
   "metadata": {},
   "source": [
    "## Create another deployment and version\n",
    "Normally you would like to chain different deployments. However, just for demo purposes, we will use the same deployment package as used above."
   ]
  },
  {
   "cell_type": "markdown",
   "id": "86b9d562",
   "metadata": {},
   "source": [
    "Create the deployment and version."
   ]
  },
  {
   "cell_type": "code",
   "execution_count": null,
   "id": "c5454066",
   "metadata": {},
   "outputs": [],
   "source": [
    "deployment2 <- deployment\n",
    "deployment2$name <- DEPLOYMENT_NAME2\n",
    "\n",
    "version2 <- version\n",
    "version2$version <- DEPLOYMENT_VERSION2\n",
    "\n",
    "deployments_create(data = deployment2)\n",
    "deployment_versions_create(deployment.name = DEPLOYMENT_NAME2, data = version2)"
   ]
  },
  {
   "cell_type": "markdown",
   "id": "f135c257",
   "metadata": {},
   "source": [
    "Upload the zip."
   ]
  },
  {
   "cell_type": "code",
   "execution_count": null,
   "id": "ca4400b3",
   "metadata": {},
   "outputs": [],
   "source": [
    "result <- revisions_file_upload(\n",
    "    deployment.name = DEPLOYMENT_NAME2,\n",
    "    version = DEPLOYMENT_VERSION2,\n",
    "    file = deployment_package_zip\n",
    ")\n",
    "build.id2 <- result$build\n",
    "result"
   ]
  },
  {
   "cell_type": "markdown",
   "id": "f3f597f8",
   "metadata": {},
   "source": [
    "Wait for the deployment to be ready."
   ]
  },
  {
   "cell_type": "code",
   "execution_count": null,
   "id": "9aa307e9",
   "metadata": {},
   "outputs": [],
   "source": [
    "status <- \"queued\"\n",
    "while (status != \"success\" && status != \"failed\") {\n",
    "    result <- builds_get(\n",
    "        deployment.name = DEPLOYMENT_NAME2,\n",
    "        version = DEPLOYMENT_VERSION2,\n",
    "        build.id = build.id2\n",
    "    )\n",
    "    status <- result$status\n",
    "    Sys.sleep(2)\n",
    "}\n",
    "status"
   ]
  },
  {
   "cell_type": "markdown",
   "id": "e31f8dfd",
   "metadata": {},
   "source": [
    "## Create a pipeline and version"
   ]
  },
  {
   "cell_type": "code",
   "execution_count": null,
   "id": "0db938d7",
   "metadata": {},
   "outputs": [],
   "source": [
    "pipeline <- list(\n",
    "    name = PIPELINE_NAME,\n",
    "    description = \"A simple pipeline that multiplies the input float two times by a random number.\",\n",
    "    input_type = \"structured\",\n",
    "    input_fields = list(\n",
    "        list(name = \"input\", data_type = \"double\")\n",
    "    ),\n",
    "    output_type = \"structured\",\n",
    "    output_fields = list(\n",
    "        list(name = \"output\", data_type = \"double\")\n",
    "    ),\n",
    "    labels = list(demo = \"r-quickstart\")\n",
    ")\n",
    "result <- pipelines_create(data = pipeline)\n",
    "result"
   ]
  },
  {
   "cell_type": "markdown",
   "id": "718f57ba",
   "metadata": {},
   "source": [
    "<div class=\"alert alert-block alert-info\">\n",
    "    \n",
    "<b>Request Retention Mode:</b>\n",
    "Use <code>request_retention_mode=\"metadata\"</code> or <code>request_retention_mode=\"full\"</code> to store all direct and batch requests to the pipeline version. Only then you will be able to retrieve them later. In this demo, we don't need to store them.\n",
    "</div>"
   ]
  },
  {
   "cell_type": "code",
   "execution_count": null,
   "id": "177bedbb",
   "metadata": {},
   "outputs": [],
   "source": [
    "pipeline_version <- list(\n",
    "    version = PIPELINE_VERSION,\n",
    "    request_retention_mode='none'  # We don't need to store the requests in this de\n",
    ")\n",
    "\n",
    "result <- pipeline_versions_create(\n",
    "    pipeline.name = PIPELINE_NAME,\n",
    "    data = pipeline_version\n",
    ")\n",
    "result"
   ]
  },
  {
   "cell_type": "markdown",
   "id": "390d8e82",
   "metadata": {},
   "source": [
    "## Add deployments as objects to pipeline version"
   ]
  },
  {
   "cell_type": "code",
   "execution_count": null,
   "id": "4ca2957b",
   "metadata": {},
   "outputs": [],
   "source": [
    "object <- list(\n",
    "    name = DEPLOYMENT_NAME,\n",
    "    reference_name = DEPLOYMENT_NAME,\n",
    "    version = DEPLOYMENT_VERSION\n",
    ")\n",
    "result <- pipeline_version_objects_create(\n",
    "    pipeline.name = PIPELINE_NAME,\n",
    "    version = PIPELINE_VERSION,\n",
    "    data = object\n",
    ")\n",
    "result"
   ]
  },
  {
   "cell_type": "markdown",
   "id": "a0eda8a9",
   "metadata": {},
   "source": [
    "It's also possible to refer to the *default* deployment version. Let's do that for the second object."
   ]
  },
  {
   "cell_type": "code",
   "execution_count": null,
   "id": "498f954c",
   "metadata": {},
   "outputs": [],
   "source": [
    "object2 <- list(\n",
    "    name = DEPLOYMENT_NAME2,\n",
    "    reference_name = DEPLOYMENT_NAME2\n",
    ")\n",
    "\n",
    "result <- pipeline_version_objects_create(\n",
    "    pipeline.name = PIPELINE_NAME,\n",
    "    version = PIPELINE_VERSION,\n",
    "    data = object2\n",
    ")\n",
    "result"
   ]
  },
  {
   "cell_type": "markdown",
   "id": "ab0f8607",
   "metadata": {},
   "source": [
    "## Connect the objects"
   ]
  },
  {
   "cell_type": "markdown",
   "id": "816f43a4",
   "metadata": {},
   "source": [
    "start -> deployment1"
   ]
  },
  {
   "cell_type": "code",
   "execution_count": null,
   "id": "85582046",
   "metadata": {},
   "outputs": [],
   "source": [
    "attachment <- list(\n",
    "    destination_name = DEPLOYMENT_NAME,\n",
    "    sources = list(\n",
    "        list(\n",
    "            source_name = \"pipeline_start\",\n",
    "            mapping = list(\n",
    "                list(source_field_name = \"input\", destination_field_name = \"input\")\n",
    "            )\n",
    "        )\n",
    "    )\n",
    ")\n",
    "result <- pipeline_version_object_attachments_create(\n",
    "    pipeline.name = PIPELINE_NAME, \n",
    "    version = PIPELINE_VERSION,\n",
    "    data = attachment\n",
    ")\n",
    "result"
   ]
  },
  {
   "cell_type": "markdown",
   "id": "4da0ed61",
   "metadata": {},
   "source": [
    "deployment1 -> deployment2"
   ]
  },
  {
   "cell_type": "code",
   "execution_count": null,
   "id": "4b7bf8f5",
   "metadata": {},
   "outputs": [],
   "source": [
    "attachment2 <- list(\n",
    "    destination_name = DEPLOYMENT_NAME2,\n",
    "    sources = list(\n",
    "        list(\n",
    "            source_name = DEPLOYMENT_NAME,\n",
    "            mapping = list(\n",
    "                list(source_field_name = \"output\", destination_field_name = \"input\")\n",
    "            )\n",
    "        )\n",
    "    )\n",
    ")\n",
    "result <- pipeline_version_object_attachments_create(\n",
    "    pipeline.name = PIPELINE_NAME, \n",
    "    version = PIPELINE_VERSION,\n",
    "    data = attachment2\n",
    ")\n",
    "result"
   ]
  },
  {
   "cell_type": "markdown",
   "id": "7c5137b6",
   "metadata": {},
   "source": [
    "deployment2 -> end"
   ]
  },
  {
   "cell_type": "code",
   "execution_count": null,
   "id": "8a844b35",
   "metadata": {},
   "outputs": [],
   "source": [
    "attachment <- list(\n",
    "    destination_name = \"pipeline_end\",\n",
    "    sources = list(\n",
    "        list(\n",
    "            source_name = DEPLOYMENT_NAME2,\n",
    "            mapping = list(\n",
    "                list(source_field_name = \"output\", destination_field_name = \"output\")\n",
    "            )\n",
    "        )\n",
    "    )\n",
    ")\n",
    "result <- pipeline_version_object_attachments_create(\n",
    "    pipeline.name = PIPELINE_NAME, \n",
    "    version = PIPELINE_VERSION,\n",
    "    data = attachment\n",
    ")\n",
    "result"
   ]
  },
  {
   "cell_type": "markdown",
   "id": "8147a1ff",
   "metadata": {},
   "source": [
    "## Creating a direct request"
   ]
  },
  {
   "cell_type": "markdown",
   "id": "f6137120",
   "metadata": {},
   "source": [
    "<div class=\"alert alert-block alert-info\">\n",
    "    \n",
    "<b>Batch deployments:</b>\n",
    "If your pipeline contains one or more deployments with <code>deployment_mode=\"batch\"</code>, it's not possible to create a pipeline <i>direct</i> request. You should create a pipeline <i>batch</i> request instead: use <code>batch_pipeline_requests_create</code> instead of <code>pipeline_requests_create</code>.<br/>\n",
    "\n",
    "<pre><code python>data &lt;- list(input = 123)\n",
    "pipeline_batch &lt;- batch_pipeline_requests_create(\n",
    "    pipeline.name = PIPELINE_NAME,\n",
    "    data = list(data)\n",
    ")\n",
    "print(pipeline_batch)\n",
    "</code></pre>\n",
    "\n",
    "<br/>Please, note that it is only possible to retrieve the results later if you use <code>request_retention_mode=\"full\"</code>.<br/>\n",
    "\n",
    "<pre><code python>pipeline_result &lt;- pipeline_requests_get(\n",
    "    pipeline.name = PIPELINE_NAME,\n",
    "    request.id = pipeline_batch[[1]][[\"id\"]]\n",
    ")\n",
    "print(pipeline_result)\n",
    "</code></pre>\n",
    "</div>"
   ]
  },
  {
   "cell_type": "code",
   "execution_count": null,
   "id": "7f08599a",
   "metadata": {},
   "outputs": [],
   "source": [
    "input_data <- list(input = 123)\n",
    "\n",
    "result <- pipeline_version_requests_create(\n",
    "    pipeline.name = PIPELINE_NAME,\n",
    "    version = PIPELINE_VERSION,\n",
    "    data = input_data\n",
    ")\n",
    "result"
   ]
  },
  {
   "cell_type": "markdown",
   "id": "ad4f32a2",
   "metadata": {},
   "source": [
    "It's also possible to make a request to the *default* pipeline version. Like for deployments, the first created pipeline version automatically becomes the *default* version, and can be set to another version later."
   ]
  },
  {
   "cell_type": "code",
   "execution_count": null,
   "id": "d2ba355a",
   "metadata": {},
   "outputs": [],
   "source": [
    "input_data <- list(input = 123)\n",
    "\n",
    "result <- pipeline_requests_create(\n",
    "    pipeline.name = PIPELINE_NAME,\n",
    "    data = input_data\n",
    ")\n",
    "result"
   ]
  },
  {
   "cell_type": "markdown",
   "id": "a5b9ab09",
   "metadata": {},
   "source": [
    "## Cleanup\n",
    "Delete created pipeline."
   ]
  },
  {
   "cell_type": "code",
   "execution_count": null,
   "id": "a3ab9b21",
   "metadata": {},
   "outputs": [],
   "source": [
    "pipelines_delete(pipeline.name = PIPELINE_NAME)"
   ]
  },
  {
   "cell_type": "markdown",
   "id": "285e0f6a",
   "metadata": {},
   "source": [
    "Delete created deployments."
   ]
  },
  {
   "cell_type": "code",
   "execution_count": null,
   "id": "bf695e77",
   "metadata": {},
   "outputs": [],
   "source": [
    "deployments_delete(deployment.name = DEPLOYMENT_NAME)\n",
    "deployments_delete(deployment.name = DEPLOYMENT_NAME2)"
   ]
  },
  {
   "cell_type": "markdown",
   "id": "f4f3bb69",
   "metadata": {},
   "source": [
    " "
   ]
  }
 ],
 "metadata": {
  "kernelspec": {
   "display_name": "R",
   "language": "R",
   "name": "ir"
  },
  "language_info": {
   "codemirror_mode": "r",
   "file_extension": ".r",
   "mimetype": "text/x-r-source",
   "name": "R",
   "pygments_lexer": "r",
   "version": "4.0.3"
  }
 },
 "nbformat": 4,
 "nbformat_minor": 5
}
